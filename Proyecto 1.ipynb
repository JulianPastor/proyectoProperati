{
 "cells": [
  {
   "cell_type": "code",
   "execution_count": 1,
   "metadata": {},
   "outputs": [],
   "source": [
    "import numpy as np\n",
    "import pandas as pd\n",
    "import re\n",
    "file_path = \"../Data/properatti.csv\"\n",
    "#pd.set_option('display.max_row', 121300)\n",
    "pd.set_option('display.max_columns', 500)\n",
    "df = pd.read_csv(file_path, index_col=0)"
   ]
  },
  {
   "cell_type": "code",
   "execution_count": 2,
   "metadata": {},
   "outputs": [
    {
     "data": {
      "text/plain": [
       "operation                          0\n",
       "property_type                      0\n",
       "place_name                        23\n",
       "place_with_parent_names            0\n",
       "country_name                       0\n",
       "state_name                         0\n",
       "geonames_id                    18717\n",
       "lat-lon                        51550\n",
       "lat                            51550\n",
       "lon                            51550\n",
       "price                          20410\n",
       "currency                       20411\n",
       "price_aprox_local_currency     20410\n",
       "price_aprox_usd                20410\n",
       "surface_total_in_m2            39328\n",
       "surface_covered_in_m2          19907\n",
       "price_usd_per_m2               52603\n",
       "price_per_m2                   33562\n",
       "floor                         113321\n",
       "rooms                          73830\n",
       "expenses                      106958\n",
       "properati_url                      0\n",
       "description                        2\n",
       "title                              0\n",
       "image_thumbnail                 3112\n",
       "dtype: int64"
      ]
     },
     "execution_count": 2,
     "metadata": {},
     "output_type": "execute_result"
    }
   ],
   "source": [
    "#Hace un conteo de los valores nulos por columnas\n",
    "df.isnull().sum()"
   ]
  },
  {
   "cell_type": "code",
   "execution_count": 3,
   "metadata": {},
   "outputs": [],
   "source": [
    "#va a la columna 'place_with_parent_names' y va separando los conceptos por '|'\n",
    "df['country']=df[\"place_with_parent_names\"].str.split('|').str[1]\n",
    "df['state']=df[\"place_with_parent_names\"].str.split('|').str[2]\n",
    "df['place']=df[\"place_with_parent_names\"].str.split('|').str[3]\n",
    "df['extra_information']=df[\"place_with_parent_names\"].str.split('|').str[4] #En caso que sea el nombre de un barrio privado"
   ]
  },
  {
   "cell_type": "code",
   "execution_count": 4,
   "metadata": {},
   "outputs": [],
   "source": [
    "#Ordena el dataframe\n",
    "df = df.sort_values([\"country\", \"state\",\"place\",\"extra_information\",\"property_type\"])"
   ]
  },
  {
   "cell_type": "code",
   "execution_count": 5,
   "metadata": {},
   "outputs": [],
   "source": [
    "#Recorre el dataframe, busca aquellas publicaciones que tengan menor superficie total que cubierta y lo elimina\n",
    "for index, x in df.iterrows():\n",
    "       if x['surface_total_in_m2'] < x['surface_covered_in_m2']:\n",
    "            df=df.drop([index])"
   ]
  },
  {
   "cell_type": "code",
   "execution_count": 6,
   "metadata": {},
   "outputs": [],
   "source": [
    "df['regex_titulo'] = df['title'].str.extract('(U[$S]D ?\\d+[\\.\\s]?\\d+[\\.\\s]?\\d+)', expand=False)\n",
    "#df[df['regex_titulo'].notnull()]"
   ]
  },
  {
   "cell_type": "code",
   "execution_count": 7,
   "metadata": {},
   "outputs": [],
   "source": [
    "df['regex_titulo']=df['regex_titulo'].str.extract('(\\d+[\\.\\s]?\\d+[\\.\\s]?\\d+)', expand=False)\n",
    "#df[df['regex_titulo'].notnull()]"
   ]
  },
  {
   "cell_type": "code",
   "execution_count": 8,
   "metadata": {},
   "outputs": [],
   "source": [
    "df['regex_desc'] = df['description'].str.extract('(U[$S]D ?\\d+[\\.\\s]?\\d+[\\.\\s]?\\d+)', expand=False)\n",
    "#df[df['regex_desc'].notnull()]"
   ]
  },
  {
   "cell_type": "code",
   "execution_count": 9,
   "metadata": {},
   "outputs": [],
   "source": [
    "df['regex_desc']=df['regex_desc'].str.extract('(\\d+[\\.\\s]?\\d+[\\.\\s]?\\d+)', expand=False)\n",
    "#df[df['regex_desc'].notnull()]"
   ]
  },
  {
   "cell_type": "code",
   "execution_count": 10,
   "metadata": {},
   "outputs": [],
   "source": [
    "df.loc[22646,'regex_desc']=np.nan\n",
    "df.loc[2370,'regex_desc']=np.nan\n",
    "df.loc[4013,'regex_desc']=np.nan\n",
    "df.loc[52624,'regex_desc']=np.nan\n",
    "df.loc[3418,'regex_desc']=np.nan\n",
    "df.loc[3420,'regex_desc']=np.nan\n",
    "df.loc[3421,'regex_desc']=np.nan\n",
    "df.loc[3422,'regex_desc']=np.nan\n",
    "df.loc[3423,'regex_desc']=np.nan\n",
    "df.loc[3424,'regex_desc']=np.nan\n",
    "df.loc[3425,'regex_desc']=np.nan\n",
    "df.loc[3426,'regex_desc']=np.nan\n",
    "df.loc[3427,'regex_desc']=np.nan\n",
    "df.loc[3428,'regex_desc']=np.nan\n",
    "df.loc[3429,'regex_desc']=np.nan\n",
    "df.loc[3430,'regex_desc']=np.nan\n",
    "df.loc[3431,'regex_desc']=np.nan\n",
    "df.loc[3432,'regex_desc']=np.nan\n",
    "df.loc[3433,'regex_desc']=np.nan\n",
    "df.loc[3434,'regex_desc']=np.nan\n",
    "df.loc[3435,'regex_desc']=np.nan\n",
    "df.loc[3436,'regex_desc']=np.nan\n",
    "df.loc[3437,'regex_desc']=np.nan\n",
    "df.loc[3438,'regex_desc']=np.nan\n",
    "df.loc[3439,'regex_desc']=np.nan\n",
    "df.loc[3440,'regex_desc']=np.nan\n",
    "df.loc[3441,'regex_desc']=np.nan\n",
    "df.loc[3442,'regex_desc']=np.nan\n",
    "df.loc[3443,'regex_desc']=np.nan\n",
    "df.loc[3444,'regex_desc']=np.nan\n",
    "df.loc[41543,'regex_desc']=np.nan\n",
    "df.loc[22995,'regex_desc']=np.nan\n",
    "df.loc[1726,'regex_desc']=np.nan\n",
    "\n",
    "df.loc[22663,'regex_titulo']=np.nan\n",
    "df.loc[90556,'regex_titulo']=np.nan\n",
    "\n",
    "df=df.drop([2791])\n",
    "df=df.drop([3897])\n",
    "\n",
    "for index, x in df.iterrows():\n",
    "        if x['regex_titulo'] == x['regex_desc']:\n",
    "             df.loc[index,'regex_desc']=np.nan"
   ]
  },
  {
   "cell_type": "code",
   "execution_count": 11,
   "metadata": {},
   "outputs": [
    {
     "data": {
      "text/plain": [
       "(2482, 5450)"
      ]
     },
     "execution_count": 11,
     "metadata": {},
     "output_type": "execute_result"
    }
   ],
   "source": [
    "df.regex_titulo.count(),df.regex_desc.count()#2482,5450"
   ]
  },
  {
   "cell_type": "code",
   "execution_count": null,
   "metadata": {},
   "outputs": [],
   "source": [
    "df[(df.price.isnull())&(df.regex_titulo.isnull())&(df.regex_desc.isnull())]\n",
    "#17797 precio,regex nulos"
   ]
  },
  {
   "cell_type": "code",
   "execution_count": 17,
   "metadata": {},
   "outputs": [],
   "source": [
    " for index, x in df.iterrows():\n",
    "        if  pd.notnull(x.regex_titulo):\n",
    "            df.loc[index,'regex_price']= x['regex_titulo']\n",
    "            df.loc[index,'regex_titulo']=np.nan\n",
    "        elif pd.notnull(x.regex_desc):\n",
    "            df.loc[index,'regex_price']= x['regex_desc']\n",
    "            df.loc[index,'regex_desc']=np.nan"
   ]
  },
  {
   "cell_type": "code",
   "execution_count": 22,
   "metadata": {},
   "outputs": [],
   "source": [
    "df=df.drop(['regex_titulo', 'regex_desc'], axis=1)"
   ]
  },
  {
   "cell_type": "code",
   "execution_count": 47,
   "metadata": {},
   "outputs": [],
   "source": [
    "# df[(df.price.notnull())&(df.regex_price.notnull())&(df.price!=df.regex_price)]\n",
    "for index, x in df.iterrows():\n",
    "    if (pd.notnull(x.price)) & (pd.notnull(x.regex_price)):\n",
    "        df.loc[index,'regex_price']= np.nan"
   ]
  },
  {
   "cell_type": "code",
   "execution_count": 48,
   "metadata": {},
   "outputs": [
    {
     "data": {
      "text/plain": [
       "17797"
      ]
     },
     "execution_count": 48,
     "metadata": {},
     "output_type": "execute_result"
    }
   ],
   "source": [
    "len(df[(df.price.isnull())&(df.regex_price.isnull())])"
   ]
  },
  {
   "cell_type": "code",
   "execution_count": 50,
   "metadata": {},
   "outputs": [
    {
     "data": {
      "text/plain": [
       "17797"
      ]
     },
     "execution_count": 50,
     "metadata": {},
     "output_type": "execute_result"
    }
   ],
   "source": [
    "for index, x in df.iterrows():\n",
    "    if (pd.isnull(x.price)) & (pd.notnull(x.regex_price)):\n",
    "        df.loc[index,'price']= x['regex_price']\n",
    "        df.loc[index,'regex_price']= np.nan\n",
    "        df.loc[index,'currency']= 'USD'\n",
    "df=df.drop(['regex_price'], axis=1)"
   ]
  },
  {
   "cell_type": "code",
   "execution_count": null,
   "metadata": {},
   "outputs": [],
   "source": [
    "#cantidad de regex_titulo y regex_desc no nulos a la vez / 108\n",
    "#cantidad de regex_titulo y regex_desc distintos entre si / 37\n",
    "#df[(df.regex_titulo.notnull())&(df.regex_desc.notnull())&(df.regex_titulo==df.regex_desc)]\n",
    "#df[(df.regex_titulo.notnull())&(df.regex_desc.notnull())]\n",
    "#df.loc[2791,'regex_desc']=np.nan\n",
    "#df=df.drop([3897])"
   ]
  },
  {
   "cell_type": "code",
   "execution_count": null,
   "metadata": {},
   "outputs": [],
   "source": [
    "#df.pivot_table(index=[\"country\",\"state\",\"place\"], values=['price','price_aprox_local_currency','price_aprox_usd','price_per_m2','price_usd_per_m2','surface_total_in_m2','surface_covered_in_m2'])\n",
    "#df.pivot_table(index=[\"country\",\"state\"],columns=['property_type'], values=['price'])\n",
    "#df[(df.regex_titulo.notnull())&(df.regex_desc.notnull())&(df.regex_titulo!=df.regex_desc)]\n"
   ]
  },
  {
   "cell_type": "code",
   "execution_count": null,
   "metadata": {},
   "outputs": [],
   "source": [
    "#df['precioReal']=df.apply(lambda x: (x.price/17.6) if x.currency=='ARS' else(x.price),axis=1)"
   ]
  }
 ],
 "metadata": {
  "kernelspec": {
   "display_name": "Python 3",
   "language": "python",
   "name": "python3"
  },
  "language_info": {
   "codemirror_mode": {
    "name": "ipython",
    "version": 3
   },
   "file_extension": ".py",
   "mimetype": "text/x-python",
   "name": "python",
   "nbconvert_exporter": "python",
   "pygments_lexer": "ipython3",
   "version": "3.7.1"
  }
 },
 "nbformat": 4,
 "nbformat_minor": 2
}
